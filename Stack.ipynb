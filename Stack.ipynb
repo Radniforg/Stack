{
 "cells": [
  {
   "cell_type": "code",
   "execution_count": 1,
   "metadata": {},
   "outputs": [],
   "source": [
    "example = '(((([{}]))))'\n",
    "example2 = '{{[(])]}}'"
   ]
  },
  {
   "cell_type": "markdown",
   "metadata": {},
   "source": [
    "Стек - абстрактный тип данных, представляющий собой список элементов, организованных по принципу LIFO (англ. last in — first out, «последним пришёл — первым вышел»)"
   ]
  },
  {
   "cell_type": "markdown",
   "metadata": {},
   "source": [
    "Необходимо реализовать класс Stack со следующими методами:\n",
    "isEmpty - проверка стека на пустоту. Метод возвращает True или False.\n",
    "push - добавляет новый элемент на вершину стека. Метод ничего не возвращает.\n",
    "pop - удаляет верхний элемент стека. Стек изменяется. Метод возвращает верхний элемент стека\n",
    "peek - возвращает верхний элемент стека, но не удаляет его. Стек не меняется.\n",
    "size - возвращает количество элементов в стеке."
   ]
  },
  {
   "cell_type": "markdown",
   "metadata": {},
   "source": [
    "Используя стек из задания 1 необходимо решить задачу на проверку сбалансированности скобок. Сбалансированность скобок означает, что каждый открывающий символ имеет соответствующий ему закрывающий, и пары скобок правильно вложены друг в друга. Сбалансированными последовательности будут следующие скобки:"
   ]
  },
  {
   "cell_type": "code",
   "execution_count": 17,
   "metadata": {},
   "outputs": [
    {
     "name": "stdout",
     "output_type": "stream",
     "text": [
      ")\n"
     ]
    }
   ],
   "source": [
    "class Stack:\n",
    "    \n",
    "    def __init__(self, string):\n",
    "        self.bracket_list = list(string)\n",
    "    \n",
    "    def isEmpty(self):\n",
    "        if len(self.bracket_list) == 0:\n",
    "            return True\n",
    "        else:\n",
    "            return False\n",
    "    \n",
    "    def push(self, bracket):\n",
    "        self.bracket_list.append(bracket)\n",
    "        return None\n",
    "    \n",
    "    def pop(self):\n",
    "        del(self.bracket_list[-1])\n",
    "        return self.bracket_list[-1]\n",
    "    \n",
    "    def peek(self):\n",
    "        return self.bracket_list[-1]\n",
    "    \n",
    "    def size(self):\n",
    "        return len(self.bracket_list)\n",
    "    \n",
    "bracket = Stack(example)\n",
    "print(bracket.peek())"
   ]
  }
 ],
 "metadata": {
  "kernelspec": {
   "display_name": "Python 3",
   "language": "python",
   "name": "python3"
  },
  "language_info": {
   "codemirror_mode": {
    "name": "ipython",
    "version": 3
   },
   "file_extension": ".py",
   "mimetype": "text/x-python",
   "name": "python",
   "nbconvert_exporter": "python",
   "pygments_lexer": "ipython3",
   "version": "3.7.6"
  }
 },
 "nbformat": 4,
 "nbformat_minor": 4
}
