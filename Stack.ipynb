{
 "cells": [
  {
   "cell_type": "code",
   "execution_count": 102,
   "metadata": {},
   "outputs": [],
   "source": [
    "example = '(((([{}]))))'\n",
    "example2 = '{{[(])]}}'\n",
    "example3 = '{[({)}]}'"
   ]
  },
  {
   "cell_type": "markdown",
   "metadata": {},
   "source": [
    "Стек - абстрактный тип данных, представляющий собой список элементов, организованных по принципу LIFO (англ. last in — first out, «последним пришёл — первым вышел»)"
   ]
  },
  {
   "cell_type": "markdown",
   "metadata": {},
   "source": [
    "Необходимо реализовать класс Stack со следующими методами:\n",
    "isEmpty - проверка стека на пустоту. Метод возвращает True или False.\n",
    "push - добавляет новый элемент на вершину стека. Метод ничего не возвращает.\n",
    "pop - удаляет верхний элемент стека. Стек изменяется. Метод возвращает верхний элемент стека\n",
    "peek - возвращает верхний элемент стека, но не удаляет его. Стек не меняется.\n",
    "size - возвращает количество элементов в стеке."
   ]
  },
  {
   "cell_type": "markdown",
   "metadata": {},
   "source": [
    "Используя стек из задания 1 необходимо решить задачу на проверку сбалансированности скобок. Сбалансированность скобок означает, что каждый открывающий символ имеет соответствующий ему закрывающий, и пары скобок правильно вложены друг в друга. Сбалансированными последовательности будут следующие скобки:"
   ]
  },
  {
   "cell_type": "code",
   "execution_count": 87,
   "metadata": {},
   "outputs": [],
   "source": [
    "class Stack:\n",
    "    \n",
    "    def __init__(self, string):\n",
    "        self.bracket_list = list(string)\n",
    "    \n",
    "    def isEmpty(self):\n",
    "        if len(self.bracket_list) == 0:\n",
    "            return True\n",
    "        else:\n",
    "            return False\n",
    "    \n",
    "    def push(self, bracket):\n",
    "        self.bracket_list.append(bracket)\n",
    "        return None\n",
    "    \n",
    "    def pop(self):\n",
    "        top = self.bracket_list[-1]\n",
    "        del(self.bracket_list[-1])\n",
    "        return top\n",
    "    \n",
    "    def peek(self):\n",
    "        return self.bracket_list[-1]\n",
    "    \n",
    "    def size(self):\n",
    "        return len(self.bracket_list)\n",
    "    "
   ]
  },
  {
   "cell_type": "markdown",
   "metadata": {},
   "source": [
    "Ниже идет функция проверки балансировки"
   ]
  },
  {
   "cell_type": "code",
   "execution_count": 141,
   "metadata": {},
   "outputs": [
    {
     "name": "stdout",
     "output_type": "stream",
     "text": [
      "0\n"
     ]
    }
   ],
   "source": [
    "bracket = Stack('')\n",
    "print(bracket.size())"
   ]
  },
  {
   "cell_type": "code",
   "execution_count": 149,
   "metadata": {},
   "outputs": [],
   "source": [
    "def balancer(brackets):\n",
    "    open_bracket = Stack('')\n",
    "    test = {'(': 0,\n",
    "           ')': 0,\n",
    "           '[': 0,\n",
    "           ']': 0,\n",
    "           '{': 0,\n",
    "           '}': 0}\n",
    "    priority = {\n",
    "           '(': ')',\n",
    "           '[': ']',\n",
    "           '{': '}'}\n",
    "    while brackets.isEmpty() is False:\n",
    "        bracket_checker = {}        \n",
    "        try:\n",
    "            current = brackets.pop()\n",
    "            test[current] += 1\n",
    "            print(current)\n",
    "            if current in [')', ']', '}']:\n",
    "                open_bracket.push(current)\n",
    "            elif current in ['(', '[', '{']:\n",
    "                if open_bracket.isEmpty() is False:\n",
    "                    if priority[current] == open_bracket.peek():\n",
    "                        print(f'{current} - {open_bracket.peek()}')\n",
    "                        open_bracket.pop()\n",
    "        except IndexError:\n",
    "            break\n",
    "    if open_bracket.isEmpty() is True:\n",
    "        print('Сбалансированно')\n",
    "    else:\n",
    "        print('Несбалансированно')\n",
    "    print(priority)\n",
    "    return None"
   ]
  },
  {
   "cell_type": "code",
   "execution_count": 150,
   "metadata": {},
   "outputs": [
    {
     "name": "stdout",
     "output_type": "stream",
     "text": [
      ")\n",
      ")\n",
      ")\n",
      ")\n",
      "]\n",
      "}\n",
      "{\n",
      "{ - }\n",
      "[\n",
      "[ - ]\n",
      "(\n",
      "( - )\n",
      "(\n",
      "( - )\n",
      "(\n",
      "( - )\n",
      "(\n",
      "( - )\n",
      "True\n",
      "{'(': 4, ')': 4, '[': 1, ']': 1, '{': 1, '}': 1}\n",
      "{'(': ')', '[': ']', '{': '}'}\n",
      "False\n"
     ]
    }
   ],
   "source": [
    "bracket = Stack(example)\n",
    "print(balancer(bracket))"
   ]
  },
  {
   "cell_type": "code",
   "execution_count": 151,
   "metadata": {},
   "outputs": [
    {
     "name": "stdout",
     "output_type": "stream",
     "text": [
      "}\n",
      "}\n",
      "]\n",
      ")\n",
      "]\n",
      "(\n",
      "[\n",
      "[ - ]\n",
      "{\n",
      "{\n",
      "{'(': 1, ')': 1, '[': 1, ']': 2, '{': 2, '}': 2}\n",
      "{'(': ')', '[': ']', '{': '}'}\n",
      "True\n"
     ]
    }
   ],
   "source": [
    "unbracket = Stack(example2)\n",
    "print(balancer(unbracket))"
   ]
  },
  {
   "cell_type": "code",
   "execution_count": 152,
   "metadata": {},
   "outputs": [
    {
     "name": "stdout",
     "output_type": "stream",
     "text": [
      "}\n",
      "]\n",
      "}\n",
      ")\n",
      "{\n",
      "(\n",
      "( - )\n",
      "[\n",
      "{\n",
      "{ - }\n",
      "{'(': 1, ')': 1, '[': 1, ']': 1, '{': 2, '}': 2}\n",
      "{'(': ')', '[': ']', '{': '}'}\n",
      "False\n"
     ]
    }
   ],
   "source": [
    "zabracket = Stack(example3)\n",
    "print(balancer(zabracket))"
   ]
  },
  {
   "cell_type": "code",
   "execution_count": null,
   "metadata": {},
   "outputs": [],
   "source": []
  }
 ],
 "metadata": {
  "kernelspec": {
   "display_name": "Python 3",
   "language": "python",
   "name": "python3"
  },
  "language_info": {
   "codemirror_mode": {
    "name": "ipython",
    "version": 3
   },
   "file_extension": ".py",
   "mimetype": "text/x-python",
   "name": "python",
   "nbconvert_exporter": "python",
   "pygments_lexer": "ipython3",
   "version": "3.7.6"
  }
 },
 "nbformat": 4,
 "nbformat_minor": 4
}
