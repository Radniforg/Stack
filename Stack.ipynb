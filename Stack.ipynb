{
 "cells": [
  {
   "cell_type": "code",
   "execution_count": 1,
   "metadata": {},
   "outputs": [],
   "source": [
    "example = '(((([{}]))))'\n",
    "example2 = '{{[(])]}}'"
   ]
  },
  {
   "cell_type": "markdown",
   "metadata": {},
   "source": [
    "Стек - абстрактный тип данных, представляющий собой список элементов, организованных по принципу LIFO (англ. last in — first out, «последним пришёл — первым вышел»)"
   ]
  },
  {
   "cell_type": "markdown",
   "metadata": {},
   "source": [
    "Необходимо реализовать класс Stack со следующими методами:\n",
    "isEmpty - проверка стека на пустоту. Метод возвращает True или False.\n",
    "push - добавляет новый элемент на вершину стека. Метод ничего не возвращает.\n",
    "pop - удаляет верхний элемент стека. Стек изменяется. Метод возвращает верхний элемент стека\n",
    "peek - возвращает верхний элемент стека, но не удаляет его. Стек не меняется.\n",
    "size - возвращает количество элементов в стеке."
   ]
  },
  {
   "cell_type": "markdown",
   "metadata": {},
   "source": [
    "Используя стек из задания 1 необходимо решить задачу на проверку сбалансированности скобок. Сбалансированность скобок означает, что каждый открывающий символ имеет соответствующий ему закрывающий, и пары скобок правильно вложены друг в друга. Сбалансированными последовательности будут следующие скобки:"
   ]
  },
  {
   "cell_type": "code",
   "execution_count": null,
   "metadata": {},
   "outputs": [],
   "source": [
    "class Stack():\n",
    "    \n",
    "    def __init__():\n",
    "        pass\n",
    "    \n",
    "    def isEmpty():\n",
    "        pass\n",
    "    \n",
    "    def push():\n",
    "        pass\n",
    "    \n",
    "    def pop():\n",
    "        pass\n",
    "    \n",
    "    def peek():\n",
    "        pass\n",
    "    \n",
    "    def size():\n",
    "        pass"
   ]
  },
  {
   "cell_type": "markdown",
   "metadata": {},
   "source": [
    "Ниже написание функций вне класса (для теста логики)"
   ]
  },
  {
   "cell_type": "code",
   "execution_count": 6,
   "metadata": {},
   "outputs": [
    {
     "name": "stdout",
     "output_type": "stream",
     "text": [
      "['(', '(', '(', '(', '[', '{', '}', ']', ')', ')', ')', ')']\n"
     ]
    }
   ],
   "source": [
    "def init_destructor(string):\n",
    "    bracket_list = list(string)\n",
    "    return bracket_list\n",
    "\n",
    "brackets = init_destructor(example)\n",
    "print(brackets)"
   ]
  },
  {
   "cell_type": "code",
   "execution_count": 8,
   "metadata": {},
   "outputs": [
    {
     "name": "stdout",
     "output_type": "stream",
     "text": [
      "False\n",
      "True\n"
     ]
    }
   ],
   "source": [
    "def empty(bracket_list):\n",
    "    if len(bracket_list) == 0:\n",
    "        return True\n",
    "    else:\n",
    "        return False\n",
    "    \n",
    "emptiness = empty(brackets)\n",
    "print(emptiness)\n",
    "lost_test = []\n",
    "print(empty(lost_test))"
   ]
  },
  {
   "cell_type": "code",
   "execution_count": 9,
   "metadata": {},
   "outputs": [
    {
     "name": "stdout",
     "output_type": "stream",
     "text": [
      "['(', '(', '(', '(', '[', '{', '}', ']', ')', ')', ')', ')', '{']\n"
     ]
    }
   ],
   "source": [
    "def new_bracket(bracket_list, bracket):\n",
    "    bracket_list.append(bracket)\n",
    "    return None\n",
    "\n",
    "new_bracket(brackets, '{')\n",
    "print(brackets)"
   ]
  },
  {
   "cell_type": "code",
   "execution_count": 13,
   "metadata": {},
   "outputs": [
    {
     "name": "stdout",
     "output_type": "stream",
     "text": [
      ")\n",
      "['(', '(', '(', '(', '[', '{', '}', ']', ')', ')', ')', ')']\n"
     ]
    }
   ],
   "source": [
    "def delete_bracket(bracket_list):\n",
    "    del(bracket_list[-1])\n",
    "    return bracket_list[-1]\n",
    "\n",
    "print(delete_bracket(brackets))\n",
    "print(brackets)"
   ]
  },
  {
   "cell_type": "code",
   "execution_count": 14,
   "metadata": {},
   "outputs": [
    {
     "name": "stdout",
     "output_type": "stream",
     "text": [
      ")\n"
     ]
    }
   ],
   "source": [
    "def on_top(bracket_list):\n",
    "    return bracket_list[-1]\n",
    "\n",
    "print(on_top(brackets))"
   ]
  },
  {
   "cell_type": "code",
   "execution_count": 15,
   "metadata": {},
   "outputs": [
    {
     "name": "stdout",
     "output_type": "stream",
     "text": [
      "12\n"
     ]
    }
   ],
   "source": [
    "def amount(bracket_list):\n",
    "    return len(bracket_list)\n",
    "\n",
    "print(amount(brackets))"
   ]
  },
  {
   "cell_type": "markdown",
   "metadata": {},
   "source": [
    "Конец тестовой части логики"
   ]
  }
 ],
 "metadata": {
  "kernelspec": {
   "display_name": "Python 3",
   "language": "python",
   "name": "python3"
  },
  "language_info": {
   "codemirror_mode": {
    "name": "ipython",
    "version": 3
   },
   "file_extension": ".py",
   "mimetype": "text/x-python",
   "name": "python",
   "nbconvert_exporter": "python",
   "pygments_lexer": "ipython3",
   "version": "3.7.6"
  }
 },
 "nbformat": 4,
 "nbformat_minor": 4
}
