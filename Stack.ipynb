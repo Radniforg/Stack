{
 "cells": [
  {
   "cell_type": "code",
   "execution_count": 177,
   "metadata": {},
   "outputs": [],
   "source": [
    "class Stack:\n",
    "    \n",
    "    def __init__(self, string):\n",
    "        self.bracket_list = list(string)\n",
    "    \n",
    "    def isEmpty(self):\n",
    "        if len(self.bracket_list) == 0:\n",
    "            return True\n",
    "        else:\n",
    "            return False\n",
    "    \n",
    "    def push(self, bracket):\n",
    "        self.bracket_list.append(bracket)\n",
    "        return None\n",
    "    \n",
    "    def pop(self):\n",
    "        top = self.bracket_list[-1]\n",
    "        del(self.bracket_list[-1])\n",
    "        return top\n",
    "    \n",
    "    def peek(self):\n",
    "        return self.bracket_list[-1]\n",
    "    \n",
    "    def size(self):\n",
    "        return len(self.bracket_list)\n",
    "    "
   ]
  },
  {
   "cell_type": "code",
   "execution_count": 178,
   "metadata": {},
   "outputs": [],
   "source": [
    "def balancer(string):\n",
    "    brackets = Stack(string)\n",
    "    open_bracket = Stack('')\n",
    "    pair = {\n",
    "           '(': ')',\n",
    "           '[': ']',\n",
    "           '{': '}'}\n",
    "    while brackets.isEmpty() is False:\n",
    "        bracket_checker = {}        \n",
    "        try:\n",
    "            current = brackets.pop()\n",
    "            if current in [')', ']', '}']:\n",
    "                open_bracket.push(current)\n",
    "            elif current in ['(', '[', '{']:\n",
    "                if open_bracket.isEmpty() is False:\n",
    "                    if pair[current] == open_bracket.peek():\n",
    "                        open_bracket.pop()\n",
    "        except IndexError:\n",
    "            break\n",
    "    if open_bracket.isEmpty() is True:\n",
    "        print('Сбалансированно')\n",
    "    else:\n",
    "        print('Несбалансированно')\n",
    "    return None"
   ]
  },
  {
   "cell_type": "code",
   "execution_count": 179,
   "metadata": {},
   "outputs": [],
   "source": [
    "test_data = ['(((([{}]))))', '[([])((([[[]]])))]{()}', \n",
    "             '{{[()]}}', '}{}', '{{[(])]}}', '[[{())}]', '{[({)}]}']"
   ]
  },
  {
   "cell_type": "code",
   "execution_count": 180,
   "metadata": {},
   "outputs": [
    {
     "name": "stdout",
     "output_type": "stream",
     "text": [
      "(((([{}]))))\n",
      "Сбалансированно\n",
      "\n",
      "\n",
      "[([])((([[[]]])))]{()}\n",
      "Сбалансированно\n",
      "\n",
      "\n",
      "{{[()]}}\n",
      "Сбалансированно\n",
      "\n",
      "\n",
      "}{}\n",
      "Несбалансированно\n",
      "\n",
      "\n",
      "{{[(])]}}\n",
      "Несбалансированно\n",
      "\n",
      "\n",
      "[[{())}]\n",
      "Несбалансированно\n",
      "\n",
      "\n",
      "{[({)}]}\n",
      "Несбалансированно\n",
      "\n",
      "\n"
     ]
    }
   ],
   "source": [
    "for data in test_data:\n",
    "    print(data)\n",
    "    balancer(data)\n",
    "    print('\\n')"
   ]
  }
 ],
 "metadata": {
  "kernelspec": {
   "display_name": "Python 3",
   "language": "python",
   "name": "python3"
  },
  "language_info": {
   "codemirror_mode": {
    "name": "ipython",
    "version": 3
   },
   "file_extension": ".py",
   "mimetype": "text/x-python",
   "name": "python",
   "nbconvert_exporter": "python",
   "pygments_lexer": "ipython3",
   "version": "3.7.6"
  }
 },
 "nbformat": 4,
 "nbformat_minor": 4
}
